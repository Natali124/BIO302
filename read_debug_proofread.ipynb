{
 "cells": [
  {
   "cell_type": "code",
   "execution_count": 1,
   "metadata": {},
   "outputs": [],
   "source": [
    "import napari\n",
    "import pandas as pd\n",
    "import numpy as np\n",
    "import tifffile\n",
    "from napari.utils import nbscreenshot"
   ]
  },
  {
   "cell_type": "code",
   "execution_count": 2,
   "metadata": {},
   "outputs": [],
   "source": [
    "def add_image(viewer, img_path, csv_path):\n",
    "    \"\"\"\n",
    "    Given viewer, image path, and csv file, adds image and points layer\n",
    "    \"\"\"\n",
    "    df = pd.read_csv(csv_path)\n",
    "    img = tifffile.imread(img_path)\n",
    "\n",
    "    viewer.add_image(img[0], name=\"img\", colormap=\"red\", blending=\"additive\", scale=(1.5, 0.42, 0.42))\n",
    "    viewer.add_image(img[1], name=\"img\", colormap=\"green\", blending=\"additive\", scale=(1.5, 0.42, 0.42))\n",
    "    viewer.add_image(img[2], name=\"img\", colormap=\"blue\", blending=\"additive\", scale=(1.5, 0.42, 0.42))\n",
    "\n",
    "    points = df[['axis-0', 'axis-1', 'axis-2']].values\n",
    "    labels = df[\"label\"].values\n",
    "\n",
    "    # transform label to colors\n",
    "    colors = np.zeros((len(labels), 4))\n",
    "    colors[labels == \"TP\"] = [0, 1, 0, 1] # green\n",
    "    #colors[labels == \"FP\"] = [1, 0, 0, 1] # red\n",
    "    colors[labels == \"FP\"] = [1, 1, 1, 1] # white\n",
    "    colors[labels == \"FN\"] = [0, 0, 1, 1] # purple\n",
    "\n",
    "    points_layer = viewer.add_points(points, face_color=colors, n_dimensional=True, scale=(1.5, 0.42, 0.42), size=15)\n",
    "    points_layer.features['red'] = pd.to_numeric(df['R'], errors='coerce')\n",
    "    points_layer.features['green'] = pd.to_numeric(df['G'], errors='coerce')\n",
    "    points_layer.features['blue'] = pd.to_numeric(df['B'], errors='coerce')"
   ]
  },
  {
   "cell_type": "code",
   "execution_count": 3,
   "metadata": {},
   "outputs": [],
   "source": [
    "#####   Run all --- uncomment to run\n",
    "# for i in range(1, 4):\n",
    "#     viewer = napari.Viewer()\n",
    "#     img_path = f\"debug_V3_P21_Natali/Cx_ML{i}_CL.tif\"\n",
    "#     csv_path = f\"debug_V3_P21_Natali/Cx_ML{i}_CL_labeled.csv\"\n",
    "\n",
    "#     add_image(viewer, img_path, csv_path)\n",
    "#     display(nbscreenshot(viewer, canvas_only=True))\n",
    "    \n",
    "# for i in range(1, 4):\n",
    "#     viewer = napari.Viewer()\n",
    "#     img_path = f\"debug_V3_P21_Natali/Cx_ML{i}_DL.tif\"\n",
    "#     csv_path = f\"debug_V3_P21_Natali/Cx_ML{i}_DL_labeled.csv\"\n",
    "\n",
    "#     add_image(viewer, img_path, csv_path)\n",
    "#     display(nbscreenshot(viewer, canvas_only=True))\n",
    "\n",
    "# for i in range(1, 4):\n",
    "#     viewer = napari.Viewer()\n",
    "#     img_path = f\"debug_V3_P21_Natali/Cx_ML{i}_UL.tif\"\n",
    "#     csv_path = f\"debug_V3_P21_Natali/Cx_ML{i}_UL_labeled.csv\"\n",
    "\n",
    "#     add_image(viewer, img_path, csv_path)\n",
    "#     display(nbscreenshot(viewer, canvas_only=True))\n",
    "\n",
    "# for i in range(1, 5):\n",
    "#     viewer = napari.Viewer()\n",
    "#     img_path = f\"debug_V3_P21_Natali/Hp_ML{i}.tif\"\n",
    "#     csv_path = f\"debug_V3_P21_Natali/Hp_ML{i}_labeled.csv\"\n",
    "\n",
    "#     add_image(viewer, img_path, csv_path)\n",
    "#     display(nbscreenshot(viewer, canvas_only=True))"
   ]
  },
  {
   "cell_type": "markdown",
   "metadata": {},
   "source": [
    "# Counting number of each\n",
    "\n",
    "Counting manually gives us:\n",
    "- background\n",
    "- black cells\n",
    "- veins\n",
    "- astrocytes"
   ]
  },
  {
   "cell_type": "code",
   "execution_count": 5,
   "metadata": {},
   "outputs": [],
   "source": [
    "# Display results of your choice\n",
    "for i in [4]:\n",
    "    viewer = napari.Viewer()\n",
    "    img_path = f\"debug_V3_P21_Natali/Hp_ML{i}.tif\"\n",
    "    csv_path = f\"debug_V3_P21_Natali/Hp_ML{i}_labeled.csv\"\n",
    "\n",
    "    add_image(viewer, img_path, csv_path)"
   ]
  },
  {
   "cell_type": "markdown",
   "metadata": {},
   "source": [
    "# Adding labels for manual clustering"
   ]
  },
  {
   "cell_type": "markdown",
   "metadata": {},
   "source": [
    "Before running the following select points with \"select\" tool in napari. It will make a feature \"select_clustering\" which will have value 1 in selected points and value 0 in non-selected points. You can then plot any axis against selected_clustering and choose points which have selected_clustering equal to 1 to construct a desired manual clustering in napari clusters plotter."
   ]
  },
  {
   "cell_type": "code",
   "execution_count": 9,
   "metadata": {},
   "outputs": [],
   "source": [
    "points_layer = viewer.layers['points']\n",
    "selected = viewer.layers['points'].selected_data\n",
    "clustering = np.zeros(len(points_layer.data))\n",
    "for point_index in selected:\n",
    "    clustering[point_index] = 1\n",
    "\n",
    "points_layer.features['selected_clustering'] = clustering"
   ]
  },
  {
   "cell_type": "markdown",
   "metadata": {},
   "source": [
    "# Label false positives"
   ]
  },
  {
   "cell_type": "markdown",
   "metadata": {},
   "source": [
    "I wrote following code to label false positives. Not needed anymore, so I commented it."
   ]
  },
  {
   "cell_type": "code",
   "execution_count": 823,
   "metadata": {},
   "outputs": [],
   "source": [
    "# df = pd.read_csv(csv_path)\n",
    "# points = df[['axis-0', 'axis-1', 'axis-2']].values\n",
    "# labels = df[\"label\"].values\n",
    "\n",
    "# colors = np.zeros((len(labels)))\n",
    "# colors[labels == \"TP\"] = 0\n",
    "# colors[labels == \"FP\"] = 1\n",
    "# colors[labels == \"FN\"] = 0"
   ]
  },
  {
   "cell_type": "code",
   "execution_count": 824,
   "metadata": {},
   "outputs": [],
   "source": [
    "# colors\n",
    "# print(colors.sum())\n",
    "# np.where(colors == 1)"
   ]
  },
  {
   "cell_type": "code",
   "execution_count": 825,
   "metadata": {},
   "outputs": [],
   "source": [
    "# point = 40"
   ]
  },
  {
   "cell_type": "code",
   "execution_count": 826,
   "metadata": {},
   "outputs": [],
   "source": [
    "# clear\n",
    "# points_layer.face_color[point] = [1, 1, 1, 1]\n",
    "# points_layer.size[point] = 15\n",
    "\n",
    "\n",
    "# point = 151"
   ]
  },
  {
   "cell_type": "code",
   "execution_count": 827,
   "metadata": {},
   "outputs": [],
   "source": [
    "# points_layer.face_color[point] = [1, 0, 0, 1]\n",
    "# points_layer.size[point] = 50"
   ]
  },
  {
   "cell_type": "code",
   "execution_count": 828,
   "metadata": {},
   "outputs": [],
   "source": [
    "# labels = [None for _ in colors]"
   ]
  },
  {
   "cell_type": "code",
   "execution_count": 829,
   "metadata": {},
   "outputs": [],
   "source": [
    "# labels[40] = \"black cell\"\n",
    "# labels[46] = \"black cell\"\n",
    "# labels[47] = \"black cell\"\n",
    "# labels[146] = \"black cell\"\n",
    "# labels[147] = \"black cell\"\n",
    "# labels[151] = \"background\""
   ]
  },
  {
   "cell_type": "code",
   "execution_count": 830,
   "metadata": {},
   "outputs": [],
   "source": [
    "# df['labels'] = labels"
   ]
  },
  {
   "cell_type": "code",
   "execution_count": 831,
   "metadata": {},
   "outputs": [],
   "source": [
    "# df.to_csv(csv_path[:-4]+'_natali.csv')"
   ]
  }
 ],
 "metadata": {
  "kernelspec": {
   "display_name": "Python 3",
   "language": "python",
   "name": "python3"
  },
  "language_info": {
   "codemirror_mode": {
    "name": "ipython",
    "version": 3
   },
   "file_extension": ".py",
   "mimetype": "text/x-python",
   "name": "python",
   "nbconvert_exporter": "python",
   "pygments_lexer": "ipython3",
   "version": "3.9.19"
  }
 },
 "nbformat": 4,
 "nbformat_minor": 2
}
